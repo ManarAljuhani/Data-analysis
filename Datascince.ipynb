{
 "cells": [
  {
   "cell_type": "code",
   "execution_count": 1,
   "metadata": {},
   "outputs": [
    {
     "data": {
      "text/plain": [
       "int"
      ]
     },
     "execution_count": 1,
     "metadata": {},
     "output_type": "execute_result"
    }
   ],
   "source": [
    "x = 7\n",
    "y = x/3\n",
    "z = x == 7\n",
    "s = \"Hello python programmer!\"\n",
    "type(x)"
   ]
  },
  {
   "cell_type": "code",
   "execution_count": 2,
   "metadata": {},
   "outputs": [
    {
     "data": {
      "text/plain": [
       "float"
      ]
     },
     "execution_count": 2,
     "metadata": {},
     "output_type": "execute_result"
    }
   ],
   "source": [
    "type(y)"
   ]
  },
  {
   "cell_type": "code",
   "execution_count": 3,
   "metadata": {},
   "outputs": [
    {
     "data": {
      "text/plain": [
       "bool"
      ]
     },
     "execution_count": 3,
     "metadata": {},
     "output_type": "execute_result"
    }
   ],
   "source": [
    "type(z)"
   ]
  },
  {
   "cell_type": "code",
   "execution_count": 4,
   "metadata": {},
   "outputs": [
    {
     "data": {
      "text/plain": [
       "str"
      ]
     },
     "execution_count": 4,
     "metadata": {},
     "output_type": "execute_result"
    }
   ],
   "source": [
    "type(s)"
   ]
  },
  {
   "cell_type": "code",
   "execution_count": 11,
   "metadata": {},
   "outputs": [
    {
     "name": "stdout",
     "output_type": "stream",
     "text": [
      "I want to pay 10.5 riyals for 2 pieces of this item.\n"
     ]
    }
   ],
   "source": [
    "quantity = 2\n",
    "price = 10.5\n",
    "text = f\"I want to pay {price} riyals for {quantity} pieces of this item.\"\n",
    "print(text)"
   ]
  },
  {
   "cell_type": "code",
   "execution_count": 30,
   "metadata": {},
   "outputs": [
    {
     "name": "stdout",
     "output_type": "stream",
     "text": [
      "19 is bigger than 10\n",
      "None\n"
     ]
    }
   ],
   "source": [
    "def bigger_than_10(x):      \n",
    "    if x >= 10:\n",
    "                print(f\"{x} is bigger than 10\")\n",
    "    else:\n",
    "                print(f\"{x} is less than 10\")\n",
    "               \n",
    "print(bigger_than_10(19)) \n",
    "\n",
    "     "
   ]
  },
  {
   "cell_type": "code",
   "execution_count": 16,
   "metadata": {},
   "outputs": [
    {
     "data": {
      "text/plain": [
       "['melon', 'mango']"
      ]
     },
     "execution_count": 16,
     "metadata": {},
     "output_type": "execute_result"
    }
   ],
   "source": [
    "\n",
    "     fruites = [\"apple\", \"banana\", \"cherry\", \"orange\", \"kiwi\", \"melon\", \"mango\"]\n",
    "     fruites[-2:]\n"
   ]
  },
  {
   "cell_type": "code",
   "execution_count": 8,
   "metadata": {},
   "outputs": [
    {
     "name": "stdout",
     "output_type": "stream",
     "text": [
      "apple\n",
      "banana\n",
      "cherry\n",
      "orange\n",
      "kiwi\n",
      "melon\n",
      "mango\n"
     ]
    }
   ],
   "source": [
    "  fruites = [\"apple\", \"banana\", \"cherry\", \"orange\", \"kiwi\", \"melon\", \"mango\"]\n",
    "for x in fruites:\n",
    "           print(x)"
   ]
  },
  {
   "cell_type": "code",
   "execution_count": 9,
   "metadata": {},
   "outputs": [
    {
     "name": "stdout",
     "output_type": "stream",
     "text": [
      "{'White': 'FFFFFF', 'blue': '0000FF', 'green': '00FF00', 'yellow': 'FFFF00', 'red': 'FF0000', 'Black': '000000'}\n"
     ]
    }
   ],
   "source": [
    "colors = {\n",
    "  \"blue\": \"0000FF\",\n",
    "  \"green\": \"00FF00\",\n",
    "  \"yellow\": \"FFFF00\",\n",
    "  \"red\": \"FF0000\",\n",
    "  \"white\": \"unknown\",\n",
    "  \"Black\":\"000000\" ,\n",
    "}\n",
    "del colors['white']\n",
    "colors1 = {\"White\": \"FFFFFF\"}\n",
    "colors1.update(colors)\n",
    "print(colors1)"
   ]
  },
  {
   "cell_type": "code",
   "execution_count": 10,
   "metadata": {},
   "outputs": [],
   "source": [
    "\n",
    "def exchange_values(lista):\n",
    "    colors = {\n",
    "  \"blue\": \"0000FF\",\n",
    "  \"green\": \"00FF00\",\n",
    "  \"yellow\": \"FFFF00\",\n",
    "  \"red\": \"FF0000\",\n",
    "  \"white\": \"unknown\",\n",
    "  \"Black\":\"000000\" \n",
    "}\n",
    "    print(\"write a color\")\n",
    "    i = input()\n",
    "    print('value ', colors.get(i))\n",
    "    lista = ['blue', 'white', 'black', 'yellow', 'green', 'red']\n",
    "    lista2 =['0000FF','FFFFFF','000000','FFFF00','00FF00','FF0000']\n",
    "    print(listToDict(lsta, lsta2))\n",
    "    print(exchange_values(lista))"
   ]
  },
  {
   "cell_type": "code",
   "execution_count": null,
   "metadata": {},
   "outputs": [],
   "source": []
  },
  {
   "cell_type": "code",
   "execution_count": null,
   "metadata": {},
   "outputs": [],
   "source": []
  }
 ],
 "metadata": {
  "kernelspec": {
   "display_name": "Python 3",
   "language": "python",
   "name": "python3"
  },
  "language_info": {
   "codemirror_mode": {
    "name": "ipython",
    "version": 3
   },
   "file_extension": ".py",
   "mimetype": "text/x-python",
   "name": "python",
   "nbconvert_exporter": "python",
   "pygments_lexer": "ipython3",
   "version": "3.7.6"
  }
 },
 "nbformat": 4,
 "nbformat_minor": 4
}
